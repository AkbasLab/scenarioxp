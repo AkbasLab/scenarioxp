{
 "cells": [
  {
   "cell_type": "markdown",
   "id": "d6b8567d-0295-4ac4-b1d7-d9d418a2d349",
   "metadata": {},
   "source": [
    "# Utilities\n",
    "This page describes the utilties funcitons used by the explorers in this module."
   ]
  },
  {
   "cell_type": "code",
   "execution_count": 1,
   "id": "2aaaba76-d8d1-42fc-80df-d8b462726133",
   "metadata": {},
   "outputs": [],
   "source": [
    "import scenarioxp as sxp\n",
    "import numpy as np"
   ]
  },
  {
   "cell_type": "markdown",
   "id": "3b535104-2d59-4d68-9889-a3f6f8504c37",
   "metadata": {},
   "source": [
    "## project\n",
    "Project a normal value between two points"
   ]
  },
  {
   "cell_type": "code",
   "execution_count": 2,
   "id": "0d340e9f-192a-4f06-9217-0a9038697999",
   "metadata": {},
   "outputs": [
    {
     "name": "stdout",
     "output_type": "stream",
     "text": [
      "x: 7.5\n",
      "y: 7.4\n"
     ]
    }
   ],
   "source": [
    "# Without granularity\n",
    "x = sxp.project(a = 5, b = 10, n = 0.5)\n",
    "print(\"x:\", x)\n",
    "\n",
    "# With granularity\n",
    "# @inc controls the bin size.\n",
    "y = sxp.project(5, 10, 0.5, inc = .4)\n",
    "print(\"y:\", y)"
   ]
  },
  {
   "cell_type": "markdown",
   "id": "37b77052-649b-40f8-8858-f86dab73119b",
   "metadata": {},
   "source": [
    "## normalize\n",
    "Normalize a vector."
   ]
  },
  {
   "cell_type": "code",
   "execution_count": 3,
   "id": "56eaab0f-4e73-4f02-8e88-ac183258d399",
   "metadata": {},
   "outputs": [
    {
     "name": "stdout",
     "output_type": "stream",
     "text": [
      "x: [0.67419986 0.53935989 0.40451992 0.26967994 0.13483997]\n",
      "y: [0.67419986 0.53935989 0.40451992 0.26967994 0.13483997]\n"
     ]
    }
   ],
   "source": [
    "u = np.array([5,4,3,2,1])\n",
    "x = sxp.normalize(u)\n",
    "print(\"x:\", x)\n",
    "\n",
    "y = u / np.linalg.norm(u)\n",
    "print(\"y:\", y)"
   ]
  },
  {
   "cell_type": "markdown",
   "id": "223c0ac0-d1f8-445a-852b-06bee60fec59",
   "metadata": {},
   "source": [
    "## orthonormalize\n",
    "Orthonormalize uses gram-schmidt orthogonalization to create orthonormal surface vectors using two vectors which form a span. "
   ]
  },
  {
   "cell_type": "code",
   "execution_count": 4,
   "id": "0e5fb41f-ddb3-4746-84a2-63e04fe5a2b9",
   "metadata": {},
   "outputs": [
    {
     "name": "stdout",
     "output_type": "stream",
     "text": [
      "un [0.473432   0.27827604 0.36775636 0.41917765 0.14190365 0.43889326\n",
      " 0.10148509 0.16996176 0.28013853 0.23883503]\n",
      "vn [ 0.88083037 -0.14956885 -0.19766307 -0.22530117 -0.0762709  -0.23589799\n",
      " -0.05454659 -0.09135168 -0.15056991 -0.12836995]\n"
     ]
    }
   ],
   "source": [
    "n_dim = 10 # Number of dimensions\n",
    "u = np.random.rand(n_dim) \n",
    "v = np.zeros(n_dim); v[0] = 1 # We reccomend using an array of zero with 1 axis set to 1.\n",
    "un, vn = sxp.orthonormalize(u, v)\n",
    "print(\"un\", un.flatten())\n",
    "print(\"vn\", vn.flatten())"
   ]
  },
  {
   "cell_type": "markdown",
   "id": "69af52b8-d323-4434-8820-735da5d91c66",
   "metadata": {},
   "source": [
    "## generateRotationMatrix\n",
    "Returns a function that returns a rotation matrix that rotates that number of degrees using the provided span."
   ]
  },
  {
   "cell_type": "code",
   "execution_count": 5,
   "id": "77295e36-3d59-44a0-a0ea-c2501374802b",
   "metadata": {},
   "outputs": [
    {
     "name": "stdout",
     "output_type": "stream",
     "text": [
      "shape: (10, 10)\n"
     ]
    },
    {
     "data": {
      "text/plain": [
       "array([[ 5.25321989e-01, -2.11216656e-01, -3.82742359e-01,\n",
       "        -2.95378935e-01, -3.39323538e-01, -3.55491660e-01,\n",
       "        -1.06099099e-01, -1.12487884e-02, -3.48567512e-01,\n",
       "        -2.66994861e-01],\n",
       "       [ 2.11216656e-01,  9.70752093e-01, -5.29996694e-02,\n",
       "        -4.09021514e-02, -4.69873139e-02, -4.92261701e-02,\n",
       "        -1.46919123e-02, -1.55765897e-03, -4.82673592e-02,\n",
       "        -3.69717097e-02],\n",
       "       [ 3.82742359e-01, -5.29996694e-02,  9.03960138e-01,\n",
       "        -7.41181410e-02, -8.51449676e-02, -8.92019635e-02,\n",
       "        -2.66229816e-02, -2.82260916e-03, -8.74645175e-02,\n",
       "        -6.69958499e-02],\n",
       "       [ 2.95378935e-01, -4.09021514e-02, -7.41181410e-02,\n",
       "         9.42799805e-01, -6.57100770e-02, -6.88410372e-02,\n",
       "        -2.05461135e-02, -2.17833033e-03, -6.75001745e-02,\n",
       "        -5.17036129e-02],\n",
       "       [ 3.39323538e-01, -4.69873139e-02, -8.51449676e-02,\n",
       "        -6.57100770e-02,  9.24513995e-01, -7.90827698e-02,\n",
       "        -2.36028339e-02, -2.50240849e-03, -7.75424221e-02,\n",
       "        -5.93957483e-02],\n",
       "       [ 3.55491660e-01, -4.92261701e-02, -8.92019635e-02,\n",
       "        -6.88410372e-02, -7.90827698e-02,  9.17149087e-01,\n",
       "        -2.47274641e-02, -2.62164350e-03, -8.12371710e-02,\n",
       "        -6.22258428e-02],\n",
       "       [ 1.06099099e-01, -1.46919123e-02, -2.66229816e-02,\n",
       "        -2.05461135e-02, -2.36028339e-02, -2.47274641e-02,\n",
       "         9.92619907e-01, -7.82448770e-04, -2.42458308e-02,\n",
       "        -1.85717601e-02],\n",
       "       [ 1.12487884e-02, -1.55765897e-03, -2.82260916e-03,\n",
       "        -2.17833033e-03, -2.50240849e-03, -2.62164350e-03,\n",
       "        -7.82448770e-04,  9.99917044e-01, -2.57058000e-03,\n",
       "        -1.96900637e-03],\n",
       "       [ 3.48567512e-01, -4.82673592e-02, -8.74645175e-02,\n",
       "        -6.75001745e-02, -7.75424221e-02, -8.12371710e-02,\n",
       "        -2.42458308e-02, -2.57058000e-03,  9.20345139e-01,\n",
       "        -6.10138287e-02],\n",
       "       [ 2.66994861e-01, -3.69717097e-02, -6.69958499e-02,\n",
       "        -5.17036129e-02, -5.93957483e-02, -6.22258428e-02,\n",
       "        -1.85717601e-02, -1.96900637e-03, -6.10138287e-02,\n",
       "         9.53264782e-01]])"
      ]
     },
     "execution_count": 5,
     "metadata": {},
     "output_type": "execute_result"
    }
   ],
   "source": [
    "n_dim = 10 # Number of dimensions\n",
    "u = np.random.rand(n_dim) \n",
    "v = np.zeros(n_dim); v[0] = 1 # We reccomend using an array of zero with 1 axis set to 1.\n",
    "rotate_by_deg = sxp.generateRotationMatrix(u,v)\n",
    "\n",
    "rotate_45 = rotate_by_deg(45) # Create a 45 degreen rotation matrix\n",
    "print(\"shape:\", rotate_45.shape)\n",
    "rotate_45"
   ]
  }
 ],
 "metadata": {
  "kernelspec": {
   "display_name": "Python 3 (ipykernel)",
   "language": "python",
   "name": "python3"
  },
  "language_info": {
   "codemirror_mode": {
    "name": "ipython",
    "version": 3
   },
   "file_extension": ".py",
   "mimetype": "text/x-python",
   "name": "python",
   "nbconvert_exporter": "python",
   "pygments_lexer": "ipython3",
   "version": "3.9.18"
  }
 },
 "nbformat": 4,
 "nbformat_minor": 5
}
