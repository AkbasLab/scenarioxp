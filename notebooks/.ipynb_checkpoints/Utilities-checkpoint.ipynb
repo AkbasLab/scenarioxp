{
 "cells": [
  {
   "cell_type": "markdown",
   "id": "d6b8567d-0295-4ac4-b1d7-d9d418a2d349",
   "metadata": {},
   "source": [
    "# Utilities\n",
    "This page describes the utilties funcitons used by the explorers in this module."
   ]
  },
  {
   "cell_type": "code",
   "execution_count": 3,
   "id": "2aaaba76-d8d1-42fc-80df-d8b462726133",
   "metadata": {},
   "outputs": [],
   "source": [
    "import scenarioxp as sxp\n",
    "import numpy as np"
   ]
  },
  {
   "cell_type": "code",
   "execution_count": 8,
   "id": "92897b56-0238-4fc6-a8d0-fd361a141372",
   "metadata": {},
   "outputs": [
    {
     "name": "stdout",
     "output_type": "stream",
     "text": [
      "[[0.13483997 0.26967994 0.40451992 0.53935989 0.67419986]] [[-0.03776275  0.96295001 -0.11328824 -0.15105098 -0.18881373]]\n"
     ]
    }
   ],
   "source": [
    "u = np.array([0.1,0.2,0.3,0.4,0.5])\n",
    "v = np.array([0,1,0,0,0])\n",
    "un, vn = sxp.orthonormalize(u, v)\n",
    "print(un,vn)"
   ]
  },
  {
   "cell_type": "code",
   "execution_count": 15,
   "id": "0e5fb41f-ddb3-4746-84a2-63e04fe5a2b9",
   "metadata": {},
   "outputs": [
    {
     "name": "stdout",
     "output_type": "stream",
     "text": [
      "[1. 0. 0. 0. 0.]\n"
     ]
    }
   ],
   "source": [
    "n = 10\n",
    "u = np.random.rand(n,5)\n",
    "v = np.zeros(5); v[0] = 1\n",
    "v = np.array([v for v in range(n)])\n",
    "\n",
    "print(v)\n"
   ]
  },
  {
   "cell_type": "code",
   "execution_count": 16,
   "id": "94fa4c4a-17f0-403e-9e45-4af29e76d2f6",
   "metadata": {},
   "outputs": [
    {
     "ename": "AssertionError",
     "evalue": "",
     "output_type": "error",
     "traceback": [
      "\u001b[0;31m---------------------------------------------------------------------------\u001b[0m",
      "\u001b[0;31mAssertionError\u001b[0m                            Traceback (most recent call last)",
      "Cell \u001b[0;32mIn[16], line 1\u001b[0m\n\u001b[0;32m----> 1\u001b[0m un, vn \u001b[38;5;241m=\u001b[39m \u001b[43msxp\u001b[49m\u001b[38;5;241;43m.\u001b[39;49m\u001b[43morthonormalize\u001b[49m\u001b[43m(\u001b[49m\u001b[43mu\u001b[49m\u001b[43m,\u001b[49m\u001b[43m \u001b[49m\u001b[43mv\u001b[49m\u001b[43m)\u001b[49m\n\u001b[1;32m      2\u001b[0m \u001b[38;5;28mprint\u001b[39m(un,vn)\n",
      "File \u001b[0;32m~/python-venv/scenarioxp/lib/python3.9/site-packages/scenarioxp/tools.py:55\u001b[0m, in \u001b[0;36morthonormalize\u001b[0;34m(u, v)\u001b[0m\n\u001b[1;32m     52\u001b[0m u \u001b[38;5;241m=\u001b[39m u\u001b[38;5;241m.\u001b[39msqueeze()\n\u001b[1;32m     53\u001b[0m v \u001b[38;5;241m=\u001b[39m v\u001b[38;5;241m.\u001b[39msqueeze()\n\u001b[0;32m---> 55\u001b[0m \u001b[38;5;28;01massert\u001b[39;00m \u001b[38;5;28mlen\u001b[39m(u) \u001b[38;5;241m==\u001b[39m \u001b[38;5;28mlen\u001b[39m(v)\n\u001b[1;32m     57\u001b[0m u \u001b[38;5;241m=\u001b[39m u[np\u001b[38;5;241m.\u001b[39mnewaxis]\n\u001b[1;32m     58\u001b[0m v \u001b[38;5;241m=\u001b[39m v[np\u001b[38;5;241m.\u001b[39mnewaxis]\n",
      "\u001b[0;31mAssertionError\u001b[0m: "
     ]
    }
   ],
   "source": [
    "un, vn = sxp.orthonormalize(u, v)\n",
    "print(un,vn)"
   ]
  },
  {
   "cell_type": "code",
   "execution_count": null,
   "id": "056a24a3-8da2-4b78-948f-0690f27755f7",
   "metadata": {},
   "outputs": [],
   "source": []
  }
 ],
 "metadata": {
  "kernelspec": {
   "display_name": "Python 3 (ipykernel)",
   "language": "python",
   "name": "python3"
  },
  "language_info": {
   "codemirror_mode": {
    "name": "ipython",
    "version": 3
   },
   "file_extension": ".py",
   "mimetype": "text/x-python",
   "name": "python",
   "nbconvert_exporter": "python",
   "pygments_lexer": "ipython3",
   "version": "3.9.18"
  }
 },
 "nbformat": 4,
 "nbformat_minor": 5
}
