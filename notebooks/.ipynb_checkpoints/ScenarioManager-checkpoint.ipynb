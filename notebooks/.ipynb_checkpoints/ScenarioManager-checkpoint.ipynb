{
 "cells": [
  {
   "cell_type": "markdown",
   "id": "c81db936-6b11-47b4-a557-ae0078546355",
   "metadata": {},
   "source": [
    "# Scenario Creation\n",
    "This page will explain how to create use scenarioxp to create and manage a scenario.\n",
    "First, we model a generic scenario. A scenario $S$ is system that is provided input $X$ and results in an output $Y$. Thus a system may be represented formally as:\n",
    "\n",
    "$$S(X)=Y$$\n",
    "\n",
    "Where $S()$ is the scenario testing environment, $X$ is the scenario configuration, and $Y$ is a performance metric.  By modeling a scenario in this way, a scenario becomes modular and encapsulated. The controllable parameters are the configuration, and the performance metric allows a scenario to be scored and compared. This flattened perspective of a scenario summarizes a scenario test as a combination of configurations and scores such that:\n",
    "\n",
    "$$X\\rightarrow Y$$"
   ]
  },
  {
   "cell_type": "code",
   "execution_count": null,
   "id": "7e8c380e-a751-4566-b808-bb61f5371256",
   "metadata": {},
   "outputs": [],
   "source": []
  }
 ],
 "metadata": {
  "kernelspec": {
   "display_name": "Python 3 (ipykernel)",
   "language": "python",
   "name": "python3"
  },
  "language_info": {
   "codemirror_mode": {
    "name": "ipython",
    "version": 3
   },
   "file_extension": ".py",
   "mimetype": "text/x-python",
   "name": "python",
   "nbconvert_exporter": "python",
   "pygments_lexer": "ipython3",
   "version": "3.9.18"
  }
 },
 "nbformat": 4,
 "nbformat_minor": 5
}
