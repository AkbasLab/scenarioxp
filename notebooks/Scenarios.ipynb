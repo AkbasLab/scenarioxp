{
 "cells": [
  {
   "cell_type": "markdown",
   "id": "c81db936-6b11-47b4-a557-ae0078546355",
   "metadata": {},
   "source": [
    "# Scenario Creation\n",
    "This page will explain how to create use scenarioxp to create and manage a scenario.\n",
    "First, we model a generic scenario. A scenario $S$ is system that is provided input $X$ and results in an output $Y$. Thus a system may be represented formally as:\n",
    "\n",
    "$$S(X)=Y$$\n",
    "\n",
    "Where $S()$ is the scenario testing environment, $X$ is the scenario configuration, and $Y$ is a performance metric.  By modeling a scenario in this way, a scenario becomes modular and encapsulated. The controllable parameters are the configuration, and the performance metric allows a scenario to be scored and compared. This flattened perspective of a scenario summarizes a scenario test as a combination of configurations and scores such that:\n",
    "\n",
    "$$X\\rightarrow Y$$"
   ]
  },
  {
   "cell_type": "code",
   "execution_count": 1,
   "id": "7e8c380e-a751-4566-b808-bb61f5371256",
   "metadata": {},
   "outputs": [],
   "source": [
    "%%capture\n",
    "import scenarioxp as sxp\n",
    "import pandas as pd\n",
    "import matplotlib.pyplot as plt"
   ]
  },
  {
   "cell_type": "markdown",
   "id": "1badda5a",
   "metadata": {},
   "source": [
    "Let us create a scenario that is a circle with a radius of 2 centered at (0,0). The scenario has two parameters as input, i.e. $x$ and $y$ position. The scenario score is 1 if the $(x,y)$ point is within the circle, otherwise 0."
   ]
  },
  {
   "cell_type": "code",
   "execution_count": 2,
   "id": "b860e285",
   "metadata": {},
   "outputs": [],
   "source": [
    "class CircleScenario(sxp.Scenario):\n",
    "    def __init__(self, params : pd.Series):\n",
    "        super().__init__(params)\n",
    "        point = [params[\"x\"], params[\"y\"]]\n",
    "        center = [0,0]\n",
    "        radius = 2\n",
    "        distance = lambda x1, y1, x2, y2: ((x2 - x1)**2 + (y2 - y1)**2)**0.5\n",
    "        self._score = pd.Series({\"inside\" : distance(*center,*point) <= radius})\n",
    "        return\n",
    "    \n",
    "    @property\n",
    "    def score(self) -> pd.Series:\n",
    "        return self._score"
   ]
  },
  {
   "cell_type": "markdown",
   "id": "c2e1d889",
   "metadata": {},
   "source": [
    "Then we try 3 points. Within the circle, at the edge, and outside the circle."
   ]
  },
  {
   "cell_type": "code",
   "execution_count": 3,
   "id": "e5423839",
   "metadata": {},
   "outputs": [],
   "source": [
    "p0 = pd.Series({\"x\" : 1, \"y\" : 0})\n",
    "p1 = pd.Series({\"x\" : 2, \"y\" : 0})\n",
    "p2 = pd.Series({\"x\" : 3, \"y\" : 0})\n",
    "\n",
    "cs0 = CircleScenario(p0)\n",
    "cs1 = CircleScenario(p1)\n",
    "cs2 = CircleScenario(p2)"
   ]
  },
  {
   "cell_type": "markdown",
   "id": "668f8ec4",
   "metadata": {},
   "source": [
    "Then we plot them based on score."
   ]
  },
  {
   "cell_type": "code",
   "execution_count": 4,
   "id": "396e1189",
   "metadata": {},
   "outputs": [
    {
     "data": {
      "image/png": "[encoded data removed]",
      "text/plain": [
       "<Figure size 360x360 with 1 Axes>"
      ]
     },
     "metadata": {
      "needs_background": "light"
     },
     "output_type": "display_data"
    }
   ],
   "source": [
    "from matplotlib.patches import Circle\n",
    "fig = plt.figure(figsize=(5,5))\n",
    "ax = fig.gca()\n",
    "ax.set_xlim(-2.5,3.5)\n",
    "ax.set_ylim(-3,3)\n",
    "\n",
    "circle = Circle( [0,0], 2, edgecolor='black', facecolor='none')\n",
    "ax.add_patch(circle)\n",
    "\n",
    "for cs in [cs0, cs1, cs2]:\n",
    "    x,y = cs.params.to_list()\n",
    "    color = [\"red\",\"black\"][int(cs.score[\"inside\"])]\n",
    "    ax.plot(x,y,color=color, marker = \".\")\n",
    "    continue\n",
    "\n",
    "plt.tight_layout()"
   ]
  }
 ],
 "metadata": {
  "kernelspec": {
   "display_name": "Python 3 (ipykernel)",
   "language": "python",
   "name": "python3"
  },
  "language_info": {
   "codemirror_mode": {
    "name": "ipython",
    "version": 3
   },
   "file_extension": ".py",
   "mimetype": "text/x-python",
   "name": "python",
   "nbconvert_exporter": "python",
   "pygments_lexer": "ipython3",
   "version": "3.9.19"
  }
 },
 "nbformat": 4,
 "nbformat_minor": 5
}
